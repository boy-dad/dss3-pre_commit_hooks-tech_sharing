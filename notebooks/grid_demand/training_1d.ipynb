{
 "cells": [
  {
   "attachments": {},
   "cell_type": "markdown",
   "metadata": {},
   "source": [
    "Training notebook for the 5 minute grid demand forecasting"
   ]
  },
  {
   "cell_type": "code",
   "execution_count": null,
   "metadata": {},
   "outputs": [],
   "source": [
    "import os\n",
    "import sys\n",
    "from pathlib import Path\n",
    "\n",
    "from hydra import compose, initialize\n",
    "from omegaconf import OmegaConf\n",
    "\n",
    "%load_ext autoreload\n",
    "%autoreload 2\n",
    "\n",
    "src_folder = os.path.join(Path(os.getcwd()).parent.parent, \"src\")\n",
    "sys.path.insert(0, src_folder)\n",
    "\n",
    "from grid_demand.data_processing import generate_feature_table, onload\n",
    "from grid_demand.training import run\n",
    "\n",
    "config_path = \"../../conf\"\n",
    "environment = \"local\"\n",
    "horizon = \"1d\"\n",
    "experiment_id = 969986715520194561\n",
    "\n",
    "with initialize(version_base=None, config_path=config_path):\n",
    "    cfg = compose(\n",
    "        config_name=\"config.yaml\",\n",
    "        overrides=[\n",
    "            f\"environment={environment}\",\n",
    "            f\"++grid_demand.mlflow.experiment_id={experiment_id}\",\n",
    "            f\"grid_demand={horizon}\",\n",
    "        ],\n",
    "    )\n",
    "    print(OmegaConf.to_yaml(cfg))"
   ]
  },
  {
   "attachments": {},
   "cell_type": "markdown",
   "metadata": {},
   "source": [
    "\n",
    "Generating the feature table"
   ]
  },
  {
   "cell_type": "code",
   "execution_count": null,
   "metadata": {},
   "outputs": [],
   "source": [
    "df = onload(cfg)\n",
    "df = generate_feature_table(df, cfg)\n",
    "df.head()"
   ]
  },
  {
   "attachments": {},
   "cell_type": "markdown",
   "metadata": {},
   "source": [
    "Train function"
   ]
  },
  {
   "cell_type": "code",
   "execution_count": null,
   "metadata": {},
   "outputs": [],
   "source": [
    "df = df[df[\"date\"] > \"2023-02-01\"].copy()\n",
    "run(df, cfg)"
   ]
  },
  {
   "cell_type": "code",
   "execution_count": null,
   "metadata": {},
   "outputs": [],
   "source": []
  }
 ],
 "metadata": {
  "kernelspec": {
   "display_name": "renaissance",
   "language": "python",
   "name": "python3"
  },
  "language_info": {
   "codemirror_mode": {
    "name": "ipython",
    "version": 3
   },
   "file_extension": ".py",
   "mimetype": "text/x-python",
   "name": "python",
   "nbconvert_exporter": "python",
   "pygments_lexer": "ipython3",
   "version": "3.10.9"
  },
  "vscode": {
   "interpreter": {
    "hash": "1aa5d53277a1463786d2f7a551f02c2464160692e4633cbd445eb966f645f567"
   }
  }
 },
 "nbformat": 4,
 "nbformat_minor": 2
}
